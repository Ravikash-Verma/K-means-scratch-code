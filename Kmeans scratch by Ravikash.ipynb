{
 "cells": [
  {
   "cell_type": "code",
   "execution_count": 1,
   "id": "a90a8219-65f5-49ef-b718-505c6eabec30",
   "metadata": {},
   "outputs": [],
   "source": [
    "import pandas as pd\n",
    "import numpy as np\n",
    "import matplotlib.pyplot as plt\n",
    "import seaborn as sns\n",
    "from sklearn.model_selection import train_test_split\n",
    "from sklearn.cluster import KMeans"
   ]
  },
  {
   "cell_type": "code",
   "execution_count": 2,
   "id": "5580fb7e-f065-4f4a-b275-5cd381e8d3fd",
   "metadata": {},
   "outputs": [],
   "source": [
    "# KNN-1. Supervised Learning Algorithm. \n",
    "#     2. FInd k-nearest points with test points using distance between test point and train points\n",
    "#     3. Generally uses euclidean disatance\n",
    "\n",
    "# Kmeans-1.Unsupervised Learning\n",
    "#        2. Creates new K-number of clusters on the basis of centroid and data points distance\n",
    "#        3. Generally uses euclidean disatance\n",
    "\n",
    "# Refer to the algorithm in doc"
   ]
  },
  {
   "cell_type": "markdown",
   "id": "98140177-72b2-4c8c-bacb-03af5ec44b68",
   "metadata": {},
   "source": [
    "# Scratch code of K-means algorithm"
   ]
  },
  {
   "cell_type": "code",
   "execution_count": 3,
   "id": "dcb2672c-0463-4b22-93ad-26b11292f37b",
   "metadata": {},
   "outputs": [],
   "source": [
    "from scipy.spatial.distance import cdist\n",
    "def kmeans(X,k,max_iters=100):\n",
    "    centroids=X[np.random.choice(X.shape[0],k,replace=False)]\n",
    "\n",
    "    for g in range(max_iters):\n",
    "        distances=cdist(X,centroids,'euclidean')\n",
    "        clusters=np.argmin(distances,axis=1)\n",
    "        new_centroids=np.array([X[clusters==i].mean(axis=0) for i in range(k)])\n",
    "        if np.all(centroids==new_centroids):\n",
    "            break\n",
    "        centroids=new_centroids\n",
    "    return clusters,centroids\n",
    "\n",
    "\n"
   ]
  },
  {
   "cell_type": "code",
   "execution_count": 4,
   "id": "a974b64f-efa1-4fc3-8363-8c0f9866c2eb",
   "metadata": {},
   "outputs": [
    {
     "name": "stdout",
     "output_type": "stream",
     "text": [
      "CLusters: [1 1 0 0 1 0]\n",
      "Centroids: [[7.33333333 9.        ]\n",
      " [1.16666667 1.46666667]]\n",
      "CLusters: [1 1 0 0 1 0]\n"
     ]
    }
   ],
   "source": [
    "# Example usage\n",
    "X=np.array([[1,2],[1.5,1.8],[5,8],[8,8],[1,0.6],[9,11]])\n",
    "clusters,centroids=kmeans(X,k=2)\n",
    "print('CLusters:',clusters)\n",
    "print('Centroids:',centroids)\n",
    "print('CLusters:',clusters)"
   ]
  },
  {
   "cell_type": "code",
   "execution_count": 5,
   "id": "3965e4ed-861d-43cd-a572-988c405aa3a3",
   "metadata": {},
   "outputs": [],
   "source": [
    "data=np.array([[1,3],[2,1.5],[3,2],[4,2.5],[7,6],[6,5.5],[5,6.7],[8,5.8]])"
   ]
  },
  {
   "cell_type": "code",
   "execution_count": 6,
   "id": "78dabdff-ac69-408b-aa53-2824fa13d1dd",
   "metadata": {},
   "outputs": [
    {
     "data": {
      "text/plain": [
       "((array([[2.5 , 2.25],\n",
       "         [6.5 , 6.  ]]),),\n",
       " array([0, 0, 0, 0, 1, 1, 1, 1], dtype=int32))"
      ]
     },
     "execution_count": 6,
     "metadata": {},
     "output_type": "execute_result"
    }
   ],
   "source": [
    "from sklearn.cluster import KMeans\n",
    "algo=KMeans(2)\n",
    "algo.fit(data)\n",
    "cen=algo.cluster_centers_,\n",
    "lab=algo.labels_\n",
    "cen,lab"
   ]
  },
  {
   "cell_type": "code",
   "execution_count": 10,
   "id": "b4dd5fd4-78d0-4861-b9f7-2195e3e9e8d7",
   "metadata": {},
   "outputs": [
    {
     "data": {
      "image/png": "[encoded data removed]",
      "text/plain": [
       "<Figure size 640x480 with 1 Axes>"
      ]
     },
     "metadata": {},
     "output_type": "display_data"
    }
   ],
   "source": [
    "m=['^','+']\n",
    "for i in range(len(data)):\n",
    "    plt.scatter(*data[i],marker=m[lab[i]],s=100)\n",
    "for j in cen:\n",
    "    plt.scatter(j[:,0],j[:,1],marker='x',s=150)\n",
    "plt.show()"
   ]
  },
  {
   "cell_type": "code",
   "execution_count": null,
   "id": "a2e36a1b-fcdf-4ef7-b1c4-468c44d84477",
   "metadata": {},
   "outputs": [],
   "source": []
  }
 ],
 "metadata": {
  "kernelspec": {
   "display_name": "Python 3 (ipykernel)",
   "language": "python",
   "name": "python3"
  },
  "language_info": {
   "codemirror_mode": {
    "name": "ipython",
    "version": 3
   },
   "file_extension": ".py",
   "mimetype": "text/x-python",
   "name": "python",
   "nbconvert_exporter": "python",
   "pygments_lexer": "ipython3",
   "version": "3.11.8"
  }
 },
 "nbformat": 4,
 "nbformat_minor": 5
}
